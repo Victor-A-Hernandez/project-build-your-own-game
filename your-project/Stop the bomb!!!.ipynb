{
 "cells": [
  {
   "cell_type": "code",
   "execution_count": 2,
   "metadata": {},
   "outputs": [
    {
     "name": "stdout",
     "output_type": "stream",
     "text": [
      "[6, 4, 0, 9]\n"
     ]
    }
   ],
   "source": [
    "#Importamos la random\n",
    "import random\n",
    "#CPU elige una combinación\n",
    "rounds=0\n",
    "n_rounds=4\n",
    "cpu = random.sample(range(0, 10), 4)\n",
    "print(cpu)\n",
    "#Creamos una función para comparar\n",
    "def compare(b):\n",
    "        try:\n",
    "            a=round(float(input()))\n",
    "            while a>9:\n",
    "                a=round(float(input('Try a number between 0 and 9: ')))\n",
    "            while a<0:\n",
    "                a=round(float(input('Try a number between 0 and 9: ')))\n",
    "        except ValueError:\n",
    "            print('This is not a number! Try again!')\n",
    "            return compare(b)\n",
    "        else:\n",
    "            print('The entry is',a)\n",
    "            if a==b:\n",
    "                print(a,'You’re right! Continue!')\n",
    "                return 1\n",
    "            else:\n",
    "                print(a,'You’re wrong!!! Try again!')\n",
    "                return 0"
   ]
  },
  {
   "cell_type": "code",
   "execution_count": 4,
   "metadata": {},
   "outputs": [
    {
     "name": "stdout",
     "output_type": "stream",
     "text": [
      "Thousands of residents were forced to evacuate a Frankfurt district today, \n",
      " where it was found an explosive device, one of thousands dropped over Germany by the \n",
      " Royal Air Force during the final years of World War II.  \n",
      "  \n",
      " \n",
      " Unfortunately, field agents rarely know how to defuse the bomb, \n",
      " so they will contact you, a bomb disposal expert.\n",
      " \n",
      " \n",
      " You only have 4 chances to find the right combination to deactivate the bomb!\n",
      "\n",
      "Use this manual as a guide to defuse the bomb. \n",
      " 1. Numbers shall be integer numbers from 0 to 9. \n",
      " 2. If you use flotants, the system will round it up. \n",
      " 3. You cannot use letters or symbols.\n",
      "\n",
      "1\n",
      "The entry is 1\n",
      "1 You’re wrong!!! Try again!\n",
      "2\n",
      "The entry is 2\n",
      "2 You’re wrong!!! Try again!\n",
      "3\n",
      "The entry is 3\n",
      "3 You’re wrong!!! Try again!\n",
      "4\n",
      "The entry is 4\n",
      "4 You’re wrong!!! Try again!\n",
      "Chance 1 Try again!\n",
      "1\n",
      "The entry is 1\n",
      "1 You’re wrong!!! Try again!\n",
      "2\n",
      "The entry is 2\n",
      "2 You’re wrong!!! Try again!\n",
      "3\n",
      "The entry is 3\n",
      "3 You’re wrong!!! Try again!\n",
      "12\n",
      "Try a number between 0 and 9: 2\n",
      "The entry is 2\n",
      "2 You’re wrong!!! Try again!\n",
      "Chance 2 Try again!\n",
      "3\n",
      "The entry is 3\n",
      "3 You’re wrong!!! Try again!\n",
      "1\n",
      "The entry is 1\n",
      "1 You’re wrong!!! Try again!\n",
      "2\n",
      "The entry is 2\n",
      "2 You’re wrong!!! Try again!\n",
      "3\n",
      "The entry is 3\n",
      "3 You’re wrong!!! Try again!\n",
      "Chance 3 Try again!\n",
      "4\n",
      "The entry is 4\n",
      "4 You’re wrong!!! Try again!\n",
      "1\n",
      "The entry is 1\n",
      "1 You’re wrong!!! Try again!\n",
      "2\n",
      "The entry is 2\n",
      "2 You’re wrong!!! Try again!\n",
      "3\n",
      "The entry is 3\n",
      "3 You’re wrong!!! Try again!\n",
      "Chance 4 Try again!\n",
      "\n",
      "\n",
      "BOOOOOOOOOOOOOOOOOOOOOOOOOOOOOOOOOOOOOOOOOOOOOOOOOOOOOOOOOOOOOOOOOOOOOOOOOOOOOOOOOOOOOOOOOOOOOOOOOOOOOOOOOOOOOOOOOOOOOOOOOOOOOOOOOOOOOOOOOOOOOOOOOOOOOOOOOOOOOOOOOOOOOOOOOOOOOOOOOOOOOOOOOOOOOOOOOOOOOOOOOOOOOOOOOOOOOOOOOOOOOOOOOOOOOOOOOOOOOOOOOOOOOOOOOOOOOOOOOOOOOOOOOOOOOOOOOOOOOOOOOOOOOOOOOOOOOOOOOOOOOOOOOOOOOOOOOOOOOOOOOOOOOOOOOOOOOOOOOOOOOOOOOOOOOOOOOOOOOOOOOOOOOOOOOOOOOOOOOOOOOOOOOOOOOOOOOOOOOOOOOOOOOOOOOOOOOOOOOOOOOOOOOOOOOOOOOOOOOOOOOOOOOOOOOOOOOOOOOOOOOOOOOOOOOOOOOOOOOOOOOOOOOOOOOOOOOOOOOOOOOOOOOOOOOOOOOOOOOOOOOOOOOOOOOOOOOOOOOOOOOOOOOOOOOOOOOOOOOOOOOOOOOOOOOOOOOOOOOOOOOOOOOOOOOOOOOOOOOOOOOOOOOOOOOOOOOOOOOOOOOOOOOOOOOOOOOOOOOOOOOOOOOOOOOOOOOOOOOOOOOOOOOOOOOOOOOOOOOOOOOOOOOOOOOOOOOOOOOOOOOOOOOOOOOOOOOOOOOOOOOOOOOOOOOOOOOOOOOOOOOOOOOOOOOOOOOOOOOOOOOOOOOOOOOOOOOOOOOOOOOOOOOOOOOOOOOOOOOOOOOOOOOOOOOOOOOOOOOOOOOOOOOOOOOOOOOOOOOOOOOOOOOOOOOOOOOOOOOOOOOOOOOOOOOOOOOOOOOOOOOOOOOOOOOOOOOOOOOOOOOOOOOOOOOOOOOOOOOOOOOOOOOOOOOOOOOOOOOOOOOOOOOOOOOOOOOOOOOOOOOOOOOOOOOOOOOOOOOOOOOOOOOOOOOOOOOOOOOOOOM\n",
      "\n",
      "\n",
      "The combination was:  [6, 4, 0, 9]\n"
     ]
    }
   ],
   "source": [
    "print('Thousands of residents were forced to evacuate a Frankfurt district today, \\n where it was found an explosive device, one of thousands dropped over Germany by the \\n Royal Air Force during the final years of World War II.  \\n  \\n \\n Unfortunately, field agents rarely know how to defuse the bomb, \\n so they will contact you, a bomb disposal expert.\\n \\n \\n You only have 4 chances to find the right combination to deactivate the bomb!\\n')\n",
    "print('Use this manual as a guide to defuse the bomb. \\n 1. Numbers shall be integer numbers from 0 to 9. \\n 2. If you use flotants, the system will round it up. \\n 3. You cannot use letters or symbols.\\n')\n",
    "#Agregamos un loop hasta cumplir la condición\n",
    "while rounds <n_rounds:\n",
    "    rounds +=1\n",
    "    contador=0\n",
    "    for b in cpu:\n",
    "        contador +=compare(b)\n",
    "    if contador == 4:\n",
    "        print('You deactivate the bomb!')\n",
    "        print('The combination is: ',cpu)\n",
    "        print('Mission accomplished!')\n",
    "        break\n",
    "    print('Chance',rounds,'Try again!')\n",
    "    if rounds == n_rounds:\n",
    "        print('\\n')\n",
    "        print('B'+'OOOOO'*200+'M')\n",
    "        print('\\n')\n",
    "        print('The combination was: ',cpu)"
   ]
  },
  {
   "cell_type": "markdown",
   "metadata": {},
   "source": [
    "#### "
   ]
  }
 ],
 "metadata": {
  "kernelspec": {
   "display_name": "Python 3",
   "language": "python",
   "name": "python3"
  },
  "language_info": {
   "codemirror_mode": {
    "name": "ipython",
    "version": 3
   },
   "file_extension": ".py",
   "mimetype": "text/x-python",
   "name": "python",
   "nbconvert_exporter": "python",
   "pygments_lexer": "ipython3",
   "version": "3.8.2"
  }
 },
 "nbformat": 4,
 "nbformat_minor": 4
}
